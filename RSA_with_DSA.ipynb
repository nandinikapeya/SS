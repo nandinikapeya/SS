{
  "nbformat": 4,
  "nbformat_minor": 0,
  "metadata": {
    "colab": {
      "provenance": []
    },
    "kernelspec": {
      "name": "python3",
      "display_name": "Python 3"
    },
    "language_info": {
      "name": "python"
    }
  },
  "cells": [
    {
      "cell_type": "code",
      "source": [
        "from cryptography.hazmat.primitives.asymmetric import rsa, dsa\n",
        "from cryptography.hazmat.primitives import hashes\n",
        "from cryptography.hazmat.primitives.asymmetric import padding\n",
        "from cryptography.hazmat.primitives.asymmetric.utils import Prehashed\n",
        "\n",
        "# Generate RSA Keys\n",
        "def generate_rsa_keys():\n",
        "    private_key = rsa.generate_private_key(\n",
        "        public_exponent=65537,\n",
        "        key_size=2048\n",
        "    )\n",
        "    public_key = private_key.public_key()\n",
        "    return private_key, public_key\n",
        "\n",
        "# Generate DSA Keys\n",
        "def generate_dsa_keys():\n",
        "    private_key = dsa.generate_private_key(\n",
        "        key_size=2048\n",
        "    )\n",
        "    public_key = private_key.public_key()\n",
        "    return private_key, public_key\n",
        "\n",
        "# RSA Signature\n",
        "def rsa_sign(private_key, message):\n",
        "    signature = private_key.sign(\n",
        "        message,\n",
        "        padding.PSS(\n",
        "            mgf=padding.MGF1(hashes.SHA256()),\n",
        "            salt_length=padding.PSS.MAX_LENGTH\n",
        "        ),\n",
        "        hashes.SHA256()\n",
        "    )\n",
        "    return signature\n",
        "\n",
        "# RSA Verification\n",
        "def rsa_verify(public_key, message, signature):\n",
        "    try:\n",
        "        public_key.verify(\n",
        "            signature,\n",
        "            message,\n",
        "            padding.PSS(\n",
        "                mgf=padding.MGF1(hashes.SHA256()),\n",
        "                salt_length=padding.PSS.MAX_LENGTH\n",
        "            ),\n",
        "            hashes.SHA256()\n",
        "        )\n",
        "        print(\"RSA Verification: Signature is valid.\")\n",
        "    except Exception as e:\n",
        "        print(\"RSA Verification: Signature is invalid.\", e)\n",
        "\n",
        "# DSA Signature\n",
        "def dsa_sign(private_key, message):\n",
        "    signature = private_key.sign(\n",
        "        message,\n",
        "        hashes.SHA256()\n",
        "    )\n",
        "    return signature\n",
        "\n",
        "# DSA Verification\n",
        "def dsa_verify(public_key, message, signature):\n",
        "    try:\n",
        "        public_key.verify(\n",
        "            signature,\n",
        "            message,\n",
        "            hashes.SHA256()\n",
        "        )\n",
        "        print(\"DSA Verification: Signature is valid.\")\n",
        "    except Exception as e:\n",
        "        print(\"DSA Verification: Signature is invalid.\", e)\n",
        "\n",
        "# Example usage\n",
        "message = b\"Hello, Digital Signatures!\"\n",
        "\n",
        "# RSA example\n",
        "rsa_private, rsa_public = generate_rsa_keys()\n",
        "rsa_signature = rsa_sign(rsa_private, message)\n",
        "rsa_verify(rsa_public, message, rsa_signature)\n",
        "\n",
        "# DSA example\n",
        "dsa_private, dsa_public = generate_dsa_keys()\n",
        "dsa_signature = dsa_sign(dsa_private, message)\n",
        "dsa_verify(dsa_public, message, dsa_signature)\n"
      ],
      "metadata": {
        "colab": {
          "base_uri": "https://localhost:8080/"
        },
        "id": "Xqqtu5Aq-Rng",
        "outputId": "4d2a09a4-e5ce-4a91-8333-97939e7005ad"
      },
      "execution_count": 10,
      "outputs": [
        {
          "output_type": "stream",
          "name": "stdout",
          "text": [
            "RSA Verification: Signature is valid.\n",
            "DSA Verification: Signature is valid.\n"
          ]
        }
      ]
    },
    {
      "cell_type": "code",
      "source": [],
      "metadata": {
        "id": "lAjmldUE-SiR"
      },
      "execution_count": null,
      "outputs": []
    }
  ]
}