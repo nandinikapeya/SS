{
  "nbformat": 4,
  "nbformat_minor": 0,
  "metadata": {
    "colab": {
      "provenance": []
    },
    "kernelspec": {
      "name": "python3",
      "display_name": "Python 3"
    },
    "language_info": {
      "name": "python"
    }
  },
  "cells": [
    {
      "cell_type": "code",
      "source": [
        "from cryptography.hazmat.primitives.asymmetric import dsa\n",
        "from cryptography.hazmat.primitives import hashes\n",
        "\n",
        "# Generate DSA key pair\n",
        "def generate_dsa_keys():\n",
        "    private_key = dsa.generate_private_key(key_size=2048)\n",
        "    public_key = private_key.public_key()\n",
        "    return private_key, public_key\n",
        "\n",
        "# Sign a message with the DSA private key\n",
        "def sign_message(private_key, message):\n",
        "    signature = private_key.sign(\n",
        "        message,\n",
        "        hashes.SHA256()\n",
        "    )\n",
        "    return signature\n",
        "\n",
        "# Verify the signature using the DSA public key\n",
        "def verify_signature(public_key, message, signature):\n",
        "    try:\n",
        "        public_key.verify(\n",
        "            signature,\n",
        "            message,\n",
        "            hashes.SHA256()\n",
        "        )\n",
        "        print(\"DSA Verification: Signature is valid.\")\n",
        "    except Exception as e:\n",
        "        print(\"DSA Verification: Signature is invalid.\", e)\n",
        "\n",
        "# Example usage\n",
        "message = b\"Secure message using DSA\"\n",
        "\n",
        "# Generate DSA key pair\n",
        "private_key, public_key = generate_dsa_keys()\n",
        "\n",
        "# Sign the message\n",
        "signature = sign_message(private_key, message)\n",
        "print(f\"Signature: {signature.hex()}\")\n",
        "\n",
        "# Verify the signature\n",
        "verify_signature(public_key, message, signature)\n"
      ],
      "metadata": {
        "colab": {
          "base_uri": "https://localhost:8080/"
        },
        "id": "Xqqtu5Aq-Rng",
        "outputId": "0c438b67-c003-4ab6-eade-b2d57b03e02e"
      },
      "execution_count": 11,
      "outputs": [
        {
          "output_type": "stream",
          "name": "stdout",
          "text": [
            "Signature: 304502206968ee1a7bf3a8afc79802582f02cf4dc9e7eec3f00957c01306cc1b6a581d760221008de8b458acbbfa3e6b66da8313816ccd1a507e36883b3795c6af7cc003b5bbfc\n",
            "DSA Verification: Signature is valid.\n"
          ]
        }
      ]
    },
    {
      "cell_type": "code",
      "source": [],
      "metadata": {
        "id": "lAjmldUE-SiR"
      },
      "execution_count": null,
      "outputs": []
    }
  ]
}