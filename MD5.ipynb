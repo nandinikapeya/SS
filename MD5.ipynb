{
  "nbformat": 4,
  "nbformat_minor": 0,
  "metadata": {
    "colab": {
      "provenance": []
    },
    "kernelspec": {
      "name": "python3",
      "display_name": "Python 3"
    },
    "language_info": {
      "name": "python"
    }
  },
  "cells": [
    {
      "cell_type": "code",
      "source": [
        "import hashlib\n",
        "def md5_hash(input_string):\n",
        "  # Create an MD5 hash object\n",
        "  md5 = hashlib.md5()\n",
        "  # Update the hash object with the bytes of the input string\n",
        "  md5.update(input_string.encode('utf-8'))\n",
        "  # Return the hexadecimal representation of the hash\n",
        "  return md5.hexdigest()\n",
        "input_string = \"Hello, World!\"\n",
        "print(\"MD5 Hash:\", md5_hash(input_string))\n"
      ],
      "metadata": {
        "colab": {
          "base_uri": "https://localhost:8080/"
        },
        "id": "Xqqtu5Aq-Rng",
        "outputId": "1c3608bc-7687-4b62-8601-47bc09e16a71"
      },
      "execution_count": 8,
      "outputs": [
        {
          "output_type": "stream",
          "name": "stdout",
          "text": [
            "MD5 Hash: 65a8e27d8879283831b664bd8b7f0ad4\n"
          ]
        }
      ]
    },
    {
      "cell_type": "code",
      "source": [],
      "metadata": {
        "id": "lAjmldUE-SiR"
      },
      "execution_count": null,
      "outputs": []
    }
  ]
}