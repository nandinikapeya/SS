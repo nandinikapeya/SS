{
  "nbformat": 4,
  "nbformat_minor": 0,
  "metadata": {
    "colab": {
      "provenance": []
    },
    "kernelspec": {
      "name": "python3",
      "display_name": "Python 3"
    },
    "language_info": {
      "name": "python"
    }
  },
  "cells": [
    {
      "cell_type": "code",
      "source": [
        "# Python3 code to implement Hill Cipher\n",
        "\n",
        "keyMatrix = [[0] * 3 for i in range(3)]\n",
        "\n",
        "# Generate vector for the message\n",
        "messageVector = [[0] for i in range(3)]\n",
        "\n",
        "# Generate vector for the cipher\n",
        "cipherMatrix = [[0] for i in range(3)]\n",
        "\n",
        "# Following function generates the\n",
        "# key matrix for the key string\n",
        "def getKeyMatrix(key):\n",
        "\tk = 0\n",
        "\tfor i in range(3):\n",
        "\t\tfor j in range(3):\n",
        "\t\t\tkeyMatrix[i][j] = ord(key[k]) % 65\n",
        "\t\t\tk += 1\n",
        "\n",
        "# Following function encrypts the message\n",
        "def encrypt(messageVector):\n",
        "\tfor i in range(3):\n",
        "\t\tfor j in range(1):\n",
        "\t\t\tcipherMatrix[i][j] = 0\n",
        "\t\t\tfor x in range(3):\n",
        "\t\t\t\tcipherMatrix[i][j] += (keyMatrix[i][x] *\n",
        "\t\t\t\t\t\t\t\t\tmessageVector[x][j])\n",
        "\t\t\tcipherMatrix[i][j] = cipherMatrix[i][j] % 26\n",
        "\n",
        "def HillCipher(message, key):\n",
        "\n",
        "\t# Get key matrix from the key string\n",
        "\tgetKeyMatrix(key)\n",
        "\n",
        "\t# Generate vector for the message\n",
        "\tfor i in range(3):\n",
        "\t\tmessageVector[i][0] = ord(message[i]) % 65\n",
        "\n",
        "\t# Following function generates\n",
        "\t# the encrypted vector\n",
        "\tencrypt(messageVector)\n",
        "\n",
        "\t# Generate the encrypted text\n",
        "\t# from the encrypted vector\n",
        "\tCipherText = []\n",
        "\tfor i in range(3):\n",
        "\t\tCipherText.append(chr(cipherMatrix[i][0] + 65))\n",
        "\n",
        "\t# Finally print the ciphertext\n",
        "\tprint(\"Ciphertext: \", \"\".join(CipherText))\n",
        "\n",
        "# Driver Code\n",
        "def main():\n",
        "\n",
        "\t# Get the message to\n",
        "\t# be encrypted\n",
        "\tmessage = \"ACT\"\n",
        "\n",
        "\t# Get the key\n",
        "\tkey = \"GYBNQKURP\"\n",
        "\n",
        "\tHillCipher(message, key)\n",
        "\n",
        "if __name__ == \"__main__\":\n",
        "\tmain()\n",
        "\n"
      ],
      "metadata": {
        "colab": {
          "base_uri": "https://localhost:8080/"
        },
        "id": "Xqqtu5Aq-Rng",
        "outputId": "23e4add0-0727-4e85-aa69-e7c67ee2f9bb"
      },
      "execution_count": 2,
      "outputs": [
        {
          "output_type": "stream",
          "name": "stdout",
          "text": [
            "Key text: Monarchy\n",
            "Plain Text: instruments\n",
            "CipherText: gatlmzclrqtx\n"
          ]
        }
      ]
    },
    {
      "cell_type": "code",
      "source": [],
      "metadata": {
        "id": "lAjmldUE-SiR"
      },
      "execution_count": null,
      "outputs": []
    }
  ]
}