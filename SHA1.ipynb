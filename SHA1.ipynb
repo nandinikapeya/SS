{
  "nbformat": 4,
  "nbformat_minor": 0,
  "metadata": {
    "colab": {
      "provenance": []
    },
    "kernelspec": {
      "name": "python3",
      "display_name": "Python 3"
    },
    "language_info": {
      "name": "python"
    }
  },
  "cells": [
    {
      "cell_type": "code",
      "source": [
        "import hashlib\n",
        "\n",
        "def generate_sha1_hash(input_string):\n",
        "    sha1 = hashlib.sha1()  # Creating an SHA-1 hash object\n",
        "    sha1.update(input_string.encode())  # Encoding and updating the hash object with the input string\n",
        "    return sha1.hexdigest()  # Returning the hexadecimal digest\n",
        "\n",
        "# Example usage\n",
        "input_text = \"Hello, World!\"\n",
        "hash_result = generate_sha1_hash(input_text)\n",
        "print(f\"SHA-1 Hash: {hash_result}\")\n"
      ],
      "metadata": {
        "colab": {
          "base_uri": "https://localhost:8080/"
        },
        "id": "Xqqtu5Aq-Rng",
        "outputId": "be2bef9b-d94a-46b5-fa53-f44ee654ce91"
      },
      "execution_count": 9,
      "outputs": [
        {
          "output_type": "stream",
          "name": "stdout",
          "text": [
            "SHA-1 Hash: 0a0a9f2a6772942557ab5355d76af442f8f65e01\n"
          ]
        }
      ]
    },
    {
      "cell_type": "code",
      "source": [],
      "metadata": {
        "id": "lAjmldUE-SiR"
      },
      "execution_count": null,
      "outputs": []
    }
  ]
}