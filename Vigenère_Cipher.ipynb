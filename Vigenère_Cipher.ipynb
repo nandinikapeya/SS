{
  "nbformat": 4,
  "nbformat_minor": 0,
  "metadata": {
    "colab": {
      "provenance": []
    },
    "kernelspec": {
      "name": "python3",
      "display_name": "Python 3"
    },
    "language_info": {
      "name": "python"
    }
  },
  "cells": [
    {
      "cell_type": "code",
      "source": [
        "def generate_key(msg, key):\n",
        "    key = list(key)\n",
        "    if len(msg) == len(key):\n",
        "        return key\n",
        "    else:\n",
        "        for i in range(len(msg) - len(key)):\n",
        "            key.append(key[i % len(key)])\n",
        "    return \"\".join(key)\n",
        "\n",
        "def encrypt_vigenere(msg, key):\n",
        "    encrypted_text = []\n",
        "    key = generate_key(msg, key)\n",
        "    for i in range(len(msg)):\n",
        "        char = msg[i]\n",
        "        if char.isupper():\n",
        "            encrypted_char = chr((ord(char) + ord(key[i]) - 2 * ord('A')) % 26 + ord('A'))\n",
        "        elif char.islower():\n",
        "            encrypted_char = chr((ord(char) + ord(key[i]) - 2 * ord('a')) % 26 + ord('a'))\n",
        "        else:\n",
        "            encrypted_char = char\n",
        "        encrypted_text.append(encrypted_char)\n",
        "    return \"\".join(encrypted_text)\n",
        "\n",
        "def decrypt_vigenere(msg, key):\n",
        "    decrypted_text = []\n",
        "    key = generate_key(msg, key)\n",
        "    for i in range(len(msg)):\n",
        "        char = msg[i]\n",
        "        if char.isupper():\n",
        "            decrypted_char = chr((ord(char) - ord(key[i]) + 26) % 26 + ord('A'))\n",
        "        elif char.islower():\n",
        "            decrypted_char = chr((ord(char) - ord(key[i]) + 26) % 26 + ord('a'))\n",
        "        else:\n",
        "            decrypted_char = char\n",
        "        decrypted_text.append(decrypted_char)\n",
        "    return \"\".join(decrypted_text)\n",
        "\n",
        "# Example usage\n",
        "text_to_encrypt = \"Hello, World!\"\n",
        "key = \"KEY\"\n",
        "\n",
        "encrypted_text = encrypt_vigenere(text_to_encrypt, key)\n",
        "print(f\"Encrypted Text: {encrypted_text}\")\n",
        "\n",
        "decrypted_text = decrypt_vigenere(encrypted_text, key)\n",
        "print(f\"Decrypted Text: {decrypted_text}\")\n"
      ],
      "metadata": {
        "colab": {
          "base_uri": "https://localhost:8080/"
        },
        "id": "Xqqtu5Aq-Rng",
        "outputId": "22ea43bb-3d5c-4167-b4c3-3a1f3007cc5b"
      },
      "execution_count": 3,
      "outputs": [
        {
          "output_type": "stream",
          "name": "stdout",
          "text": [
            "Encrypted Text: Rcdpm, Agvjv!\n",
            "Decrypted Text: Hello, World!\n"
          ]
        }
      ]
    },
    {
      "cell_type": "code",
      "source": [],
      "metadata": {
        "id": "lAjmldUE-SiR"
      },
      "execution_count": null,
      "outputs": []
    }
  ]
}